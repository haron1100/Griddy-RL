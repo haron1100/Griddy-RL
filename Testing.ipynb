{
 "cells": [
  {
   "cell_type": "code",
   "execution_count": null,
   "metadata": {},
   "outputs": [],
   "source": []
  },
  {
   "cell_type": "code",
   "execution_count": 1,
   "metadata": {},
   "outputs": [],
   "source": [
    "import gym\n",
    "import numpy as np\n",
    "import math"
   ]
  },
  {
   "cell_type": "code",
   "execution_count": 2,
   "metadata": {},
   "outputs": [],
   "source": [
    "env = gym.make('CartPole-v0')"
   ]
  },
  {
   "cell_type": "code",
   "execution_count": 3,
   "metadata": {},
   "outputs": [
    {
     "data": {
      "text/plain": [
       "True"
      ]
     },
     "execution_count": 3,
     "metadata": {},
     "output_type": "execute_result"
    }
   ],
   "source": [
    "env.reset()\n",
    "env.render()"
   ]
  },
  {
   "cell_type": "code",
   "execution_count": 17,
   "metadata": {},
   "outputs": [],
   "source": []
  },
  {
   "cell_type": "code",
   "execution_count": 30,
   "metadata": {},
   "outputs": [
    {
     "name": "stdout",
     "output_type": "stream",
     "text": [
      "Scale: 125.0\n",
      "-25.0 25.0 15.0 -15.0\n",
      "-5.0 5.0 120.0 -5.0\n"
     ]
    },
    {
     "ename": "NameError",
     "evalue": "name 'gg' is not defined",
     "output_type": "error",
     "traceback": [
      "\u001b[0;31m---------------------------------------------------------------------------\u001b[0m",
      "\u001b[0;31mNameError\u001b[0m                                 Traceback (most recent call last)",
      "\u001b[0;32m<ipython-input-30-274269b820ad>\u001b[0m in \u001b[0;36m<module>\u001b[0;34m\u001b[0m\n\u001b[1;32m     53\u001b[0m     \u001b[0m_pole_geom\u001b[0m \u001b[0;34m=\u001b[0m \u001b[0mpole\u001b[0m\u001b[0;34m\u001b[0m\u001b[0;34m\u001b[0m\u001b[0m\n\u001b[1;32m     54\u001b[0m \u001b[0mviewer\u001b[0m\u001b[0;34m.\u001b[0m\u001b[0mrender\u001b[0m\u001b[0;34m(\u001b[0m\u001b[0mreturn_rgb_array\u001b[0m \u001b[0;34m=\u001b[0m \u001b[0mmode\u001b[0m\u001b[0;34m==\u001b[0m\u001b[0;34m'rgb_array'\u001b[0m\u001b[0;34m)\u001b[0m\u001b[0;34m\u001b[0m\u001b[0;34m\u001b[0m\u001b[0m\n\u001b[0;32m---> 55\u001b[0;31m \u001b[0mgg\u001b[0m\u001b[0;34m\u001b[0m\u001b[0;34m\u001b[0m\u001b[0m\n\u001b[0m\u001b[1;32m     56\u001b[0m \u001b[0;31m# Edit the pole polygon vertex\u001b[0m\u001b[0;34m\u001b[0m\u001b[0;34m\u001b[0m\u001b[0;34m\u001b[0m\u001b[0m\n\u001b[1;32m     57\u001b[0m \u001b[0mpole\u001b[0m \u001b[0;34m=\u001b[0m \u001b[0m_pole_geom\u001b[0m\u001b[0;34m\u001b[0m\u001b[0;34m\u001b[0m\u001b[0m\n",
      "\u001b[0;31mNameError\u001b[0m: name 'gg' is not defined"
     ]
    }
   ],
   "source": [
    "state = np.random.uniform(-0.05, 0.05, 4)\n",
    "viewer=None\n",
    "mode='human'\n",
    "\n",
    "# Angle at which to fail the episode\n",
    "theta_threshold_radians = 12 * 2 * math.pi / 360\n",
    "x_threshold = 2.4\n",
    "\n",
    "################################################################\n",
    "screen_width = 600\n",
    "screen_height = 600\n",
    "\n",
    "world_width = x_threshold*2\n",
    "scale = screen_width/world_width\n",
    "#scale=1\n",
    "carty = 100 # TOP OF CART\n",
    "polewidth = 10.0\n",
    "polelen = scale * (2 * length)\n",
    "cartwidth = 50.0\n",
    "cartheight = 30.0\n",
    "print('Scale:', scale)\n",
    "\n",
    "if viewer is None:\n",
    "    from gym.envs.classic_control import rendering\n",
    "    viewer = rendering.Viewer(screen_width, screen_height)\n",
    "    l,r,t,b = -cartwidth/2, cartwidth/2, cartheight/2, -cartheight/2\n",
    "    axleoffset =cartheight/4.0\n",
    "    print(l, r, t, b)\n",
    "    cart = rendering.FilledPolygon([(l,b), (l,t), (r,t), (r,b)])\n",
    "    carttrans = rendering.Transform()\n",
    "    cart.add_attr(carttrans)\n",
    "    viewer.add_geom(cart)\n",
    "    \n",
    "    l,r,t,b = -polewidth/2,polewidth/2,polelen-polewidth/2,-polewidth/2\n",
    "    print(l, r, t, b)\n",
    "    pole = rendering.FilledPolygon([(l,b), (l,t), (r,t), (r,b)])\n",
    "    pole.set_color(.8,.6,.4)\n",
    "    poletrans = rendering.Transform(translation=(0, axleoffset))\n",
    "    pole.add_attr(poletrans)\n",
    "    pole.add_attr(carttrans)\n",
    "    viewer.add_geom(pole)\n",
    "    \n",
    "    axle = rendering.make_circle(polewidth/2)\n",
    "    axle.add_attr(poletrans)\n",
    "    axle.add_attr(carttrans)\n",
    "    axle.set_color(.5,.5,.8)\n",
    "    viewer.add_geom(axle)\n",
    "    \n",
    "    track = rendering.Line((0,carty), (screen_width,carty))\n",
    "    track.set_color(0,0,0)\n",
    "    viewer.add_geom(track)\n",
    "\n",
    "    _pole_geom = pole\n",
    "viewer.render(return_rgb_array = mode=='rgb_array')\n",
    "gg\n",
    "# Edit the pole polygon vertex\n",
    "pole = _pole_geom\n",
    "l,r,t,b = -polewidth/2,polewidth/2,polelen-polewidth/2,-polewidth/2\n",
    "pole.v = [(l,b), (l,t), (r,t), (r,b)]\n",
    "\n",
    "x = state\n",
    "cartx = x[0]*scale+screen_width/2.0 # MIDDLE OF CART\n",
    "carttrans.set_translation(cartx, carty)\n",
    "poletrans.set_rotation(-x[2])\n",
    "\n",
    "viewer.render(return_rgb_array = mode=='rgb_array')"
   ]
  },
  {
   "cell_type": "code",
   "execution_count": 4,
   "metadata": {},
   "outputs": [],
   "source": [
    "def make_oval(width=10, height=10, res=30, filled=True):\n",
    "    points = []\n",
    "    for i in range(res):\n",
    "        ang = 2*math.pi*i / res\n",
    "        points.append((math.cos(ang)*width/2, math.sin(ang)*height/2))\n",
    "    if filled:\n",
    "        return rendering.FilledPolygon(points)\n",
    "    else:\n",
    "        return rendering.PolyLine(points, True)"
   ]
  },
  {
   "cell_type": "code",
   "execution_count": 10,
   "metadata": {},
   "outputs": [
    {
     "name": "stdout",
     "output_type": "stream",
     "text": [
      "[[0 0 0 0]\n",
      " [0 0 0 3]\n",
      " [0 0 0 0]\n",
      " [0 0 0 1]]\n",
      "(1, 3)\n",
      "(3, 3)\n"
     ]
    },
    {
     "ename": "NameError",
     "evalue": "name 'gg' is not defined",
     "output_type": "error",
     "traceback": [
      "\u001b[0;31m---------------------------------------------------------------------------\u001b[0m",
      "\u001b[0;31mNameError\u001b[0m                                 Traceback (most recent call last)",
      "\u001b[0;32m<ipython-input-10-b8b32b351f34>\u001b[0m in \u001b[0;36m<module>\u001b[0;34m\u001b[0m\n\u001b[1;32m     59\u001b[0m \u001b[0mviewer\u001b[0m\u001b[0;34m.\u001b[0m\u001b[0mrender\u001b[0m\u001b[0;34m(\u001b[0m\u001b[0mreturn_rgb_array\u001b[0m \u001b[0;34m=\u001b[0m \u001b[0mmode\u001b[0m\u001b[0;34m==\u001b[0m\u001b[0;34m'rgb_array'\u001b[0m\u001b[0;34m)\u001b[0m\u001b[0;34m\u001b[0m\u001b[0;34m\u001b[0m\u001b[0m\n\u001b[1;32m     60\u001b[0m \u001b[0;34m\u001b[0m\u001b[0m\n\u001b[0;32m---> 61\u001b[0;31m \u001b[0mgg\u001b[0m\u001b[0;34m\u001b[0m\u001b[0;34m\u001b[0m\u001b[0m\n\u001b[0m\u001b[1;32m     62\u001b[0m \u001b[0;31m# Edit the pole polygon vertex\u001b[0m\u001b[0;34m\u001b[0m\u001b[0;34m\u001b[0m\u001b[0;34m\u001b[0m\u001b[0m\n\u001b[1;32m     63\u001b[0m \u001b[0mpole\u001b[0m \u001b[0;34m=\u001b[0m \u001b[0m_pole_geom\u001b[0m\u001b[0;34m\u001b[0m\u001b[0;34m\u001b[0m\u001b[0m\n",
      "\u001b[0;31mNameError\u001b[0m: name 'gg' is not defined"
     ]
    }
   ],
   "source": [
    "state = [0]*16\n",
    "agent_pos = np.random.choice(range(15), 1, replace=False)[0]\n",
    "state[15] = 1\n",
    "state[agent_pos] = 3\n",
    "state = np.array(state).reshape(4, 4)\n",
    "print(state)\n",
    "#viewer=None\n",
    "mode='human'\n",
    "\n",
    "n_squares_height = 4\n",
    "n_squares_width = 4\n",
    "\n",
    "################################################################\n",
    "screen_width = 600\n",
    "screen_height = 600\n",
    "\n",
    "square_size_height = screen_height/n_squares_height\n",
    "square_size_width = screen_width/n_squares_width\n",
    "\n",
    "if viewer is None:\n",
    "    from gym.envs.classic_control import rendering\n",
    "    viewer = rendering.Viewer(screen_width, screen_height)\n",
    "    #horizontal grid lines\n",
    "    for i in range(1, n_squares_height):\n",
    "        track = rendering.Line((0,i*square_size_height), (screen_width,i*square_size_height))\n",
    "        track.set_color(0,0,0)\n",
    "        viewer.add_geom(track)\n",
    "    #vertical grid lines\n",
    "    for i in range(1, n_squares_width):\n",
    "        track = rendering.Line((i*square_size_width, 0), (i*square_size_width, screen_height))\n",
    "        track.set_color(0,0,0)\n",
    "        viewer.add_geom(track)\n",
    "    #the agent\n",
    "    agent = make_oval(width=square_size_width/2, height=square_size_height/2)\n",
    "    agenttrans = rendering.Transform()\n",
    "    agent.add_attr(agenttrans)\n",
    "    viewer.add_geom(agent)\n",
    "    #the goal\n",
    "    goal = make_oval(width=square_size_width/2, height=square_size_height/2)\n",
    "    goal.set_color(0,255,0)\n",
    "    goaltrans = rendering.Transform()\n",
    "    goal.add_attr(goaltrans)\n",
    "    viewer.add_geom(goal)\n",
    "\n",
    "goal_pos = list(zip(*np.where(state == 1)))[0]\n",
    "agent_pos = list(zip(*np.where(state == 3)))[0]\n",
    "\n",
    "agent_y = (n_squares_height-agent_pos[0]-0.5) * square_size_height\n",
    "agent_x = (agent_pos[1]+0.5) * square_size_width\n",
    "agenttrans.set_translation(agent_x, agent_y)\n",
    "\n",
    "goal_y = (n_squares_height-goal_pos[0]-0.5) * square_size_height\n",
    "goal_x = (goal_pos[1]+0.5) * square_size_width\n",
    "goaltrans.set_translation(goal_x, goal_y)\n",
    "\n",
    "print(agent_pos)\n",
    "print(goal_pos)\n",
    "\n",
    "viewer.render(return_rgb_array = mode=='rgb_array')\n",
    "\n",
    "gg\n",
    "# Edit the pole polygon vertex\n",
    "pole = _pole_geom\n",
    "l,r,t,b = -polewidth/2,polewidth/2,polelen-polewidth/2,-polewidth/2\n",
    "pole.v = [(l,b), (l,t), (r,t), (r,b)]\n",
    "\n",
    "x = state\n",
    "cartx = x[0]*scale+screen_width/2.0 # MIDDLE OF CART\n",
    "carttrans.set_translation(cartx, carty)\n",
    "poletrans.set_rotation(-x[2])\n",
    "\n",
    "viewer.render(return_rgb_array = mode=='rgb_array')"
   ]
  },
  {
   "cell_type": "code",
   "execution_count": null,
   "metadata": {},
   "outputs": [],
   "source": []
  },
  {
   "cell_type": "code",
   "execution_count": null,
   "metadata": {},
   "outputs": [],
   "source": []
  },
  {
   "cell_type": "code",
   "execution_count": null,
   "metadata": {},
   "outputs": [],
   "source": []
  }
 ],
 "metadata": {
  "kernelspec": {
   "display_name": "Python 3",
   "language": "python",
   "name": "python3"
  },
  "language_info": {
   "codemirror_mode": {
    "name": "ipython",
    "version": 3
   },
   "file_extension": ".py",
   "mimetype": "text/x-python",
   "name": "python",
   "nbconvert_exporter": "python",
   "pygments_lexer": "ipython3",
   "version": "3.6.8"
  }
 },
 "nbformat": 4,
 "nbformat_minor": 2
}
